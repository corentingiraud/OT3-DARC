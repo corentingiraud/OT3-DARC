{
 "cells": [
  {
   "cell_type": "markdown",
   "metadata": {},
   "source": [
    "# Initialization"
   ]
  },
  {
   "cell_type": "markdown",
   "metadata": {},
   "source": [
    "Importing useful scripts and libraries."
   ]
  },
  {
   "cell_type": "code",
   "execution_count": 6,
   "metadata": {},
   "outputs": [],
   "source": [
    "%config IPCompleter.greedy=True\n",
    "%run ../../utils/import.ipynb\n",
    "%run ../../utils/export.ipynb\n",
    "%run ../../utils/pandas.ipynb\n",
    "%run ../../utils/compute-metrics.ipynb\n",
    "\n",
    "import datetime as dt"
   ]
  },
  {
   "cell_type": "markdown",
   "metadata": {},
   "source": [
    "# Clustering and sampling by quantity/price"
   ]
  },
  {
   "cell_type": "markdown",
   "metadata": {},
   "source": [
    "First of all, we slice dataframe of February first."
   ]
  },
  {
   "cell_type": "code",
   "execution_count": 11,
   "metadata": {},
   "outputs": [
    {
     "name": "stdout",
     "output_type": "stream",
     "text": [
      "       id_user id_item  price  qty        date   time\n",
      "37476    15240   21671   1.25   48  2011/02/01  08:23\n",
      "37477    15240   21668   1.25   12  2011/02/01  08:23\n",
      "37478    15240   21670   1.25   12  2011/02/01  08:23\n",
      "37479    15240  17013D   0.42   96  2011/02/01  08:23\n",
      "37480    15240   17096   0.21   48  2011/02/01  08:23\n",
      "37481    15240   22469   1.65   12  2011/02/01  08:23\n",
      "37482    15240   22077   1.65   12  2011/02/01  08:23\n",
      "37483    15240   79321   4.95    4  2011/02/01  08:23\n",
      "37484    15240   21843  10.95    1  2011/02/01  08:23\n",
      "37485    15240   22835   4.65    4  2011/02/01  08:23\n",
      "37486    15240   22083   2.95   12  2011/02/01  08:23\n",
      "37487    15240   17021    0.3   36  2011/02/01  08:23\n",
      "37488    15240   21218   3.75    6  2011/02/01  08:23\n",
      "37489    15240   21485   4.95    3  2011/02/01  08:23\n",
      "37490    14496   21471   3.75    6  2011/02/01  09:01\n",
      "37491    14496   22771   1.25   12  2011/02/01  09:01\n",
      "37492    14496   21672   1.25   12  2011/02/01  09:01\n",
      "37493    14496   84879   1.69    8  2011/02/01  09:01\n",
      "37494    14496   22139   4.95    3  2011/02/01  09:01\n",
      "37495    14496   21485   4.95    3  2011/02/01  09:01\n",
      "37496    14496   22835   4.65    4  2011/02/01  09:01\n",
      "37497    14496   22113   3.75    4  2011/02/01  09:01\n",
      "37498    14496   21257   7.95    2  2011/02/01  09:01\n",
      "37499    14496   22180   9.95    1  2011/02/01  09:01\n",
      "37500    14496   22423  12.75    3  2011/02/01  09:01\n",
      "37501    14496   84945   0.85   12  2011/02/01  09:01\n",
      "37502    14496   48188   7.95    2  2011/02/01  09:01\n",
      "37503    14496   21781  14.95    1  2011/02/01  09:01\n",
      "37504    17147   21121   1.25   24  2011/02/01  09:36\n",
      "37505    17147   21122   1.25   24  2011/02/01  09:36\n",
      "...        ...     ...    ...  ...         ...    ...\n",
      "38327    13110   82486   7.95    6  2011/02/01  15:24\n",
      "38328    13110   82483   5.95    2  2011/02/01  15:24\n",
      "38329    13110   22801   3.75    2  2011/02/01  15:24\n",
      "38330    13110   22720   4.95    2  2011/02/01  15:24\n",
      "38331    13110   22759   1.65    1  2011/02/01  15:24\n",
      "38332    13110   22906   1.65    2  2011/02/01  15:24\n",
      "38333    13110   20685   7.95    1  2011/02/01  15:24\n",
      "38334    13110   48184   7.95    1  2011/02/01  15:24\n",
      "38335    13110   48116   7.95    1  2011/02/01  15:24\n",
      "38336    13110  48173C   7.95    1  2011/02/01  15:24\n",
      "38337    13110   22692   7.95    1  2011/02/01  15:24\n",
      "38338    13110   22690   7.95    1  2011/02/01  15:24\n",
      "38339    13110   22457   2.95    6  2011/02/01  15:24\n",
      "38340    13110   22149    2.1    1  2011/02/01  15:24\n",
      "38341    12676  47590B   5.45   21  2011/02/01  15:41\n",
      "38342    12676   21380   2.95   18  2011/02/01  15:41\n",
      "38343    12676   22964    2.1    6  2011/02/01  15:41\n",
      "38344    12676   22938   1.95   12  2011/02/01  15:41\n",
      "38345    12676   23230   0.42   25  2011/02/01  15:41\n",
      "38346    12676   22435   1.25   48  2011/02/01  15:41\n",
      "38347    12676   21499   0.42   25  2011/02/01  15:41\n",
      "38348    12676   21500   0.42   25  2011/02/01  15:41\n",
      "38349    12676  47590A   5.45   21  2011/02/01  15:41\n",
      "38350    12676    POST     40    1  2011/02/01  15:41\n",
      "38351    12676   21124   1.25   24  2011/02/01  15:41\n",
      "38352    12676   21122   1.25   24  2011/02/01  15:41\n",
      "38353    15971   22379    2.1  130  2011/02/01  16:47\n",
      "38354    15971   22378    2.1   70  2011/02/01  16:47\n",
      "38355    15971   22377    2.1   70  2011/02/01  16:47\n",
      "38356    15971  85099B   1.95  100  2011/02/01  16:47\n",
      "\n",
      "[881 rows x 6 columns]\n"
     ]
    }
   ],
   "source": [
    "# Import \n",
    "baseDataframe = importRound1DatasetFromPath('../../ressources/ground_truth.csv')\n",
    "baseDataframe = parseColumns(baseDataframe)\n",
    "\n",
    "startDate = dt.datetime(2011, 2, 1)\n",
    "endDate = dt.datetime(2011, 2, 2)\n",
    "\n",
    "dfFebruaryFirst = sliceDFBetweenDates(baseDataframe, startDate, endDate)\n",
    "\n",
    "exportDatasetToCsv('./output-february-first.csv', dfFebruaryFirst)\n",
    "print(dfFebruaryFirst)"
   ]
  },
  {
   "cell_type": "markdown",
   "metadata": {},
   "source": [
    "Then, we regroup all transaction who has similar prices. "
   ]
  },
  {
   "cell_type": "code",
   "execution_count": null,
   "metadata": {},
   "outputs": [],
   "source": []
  },
  {
   "cell_type": "markdown",
   "metadata": {},
   "source": [
    "# Compute metrics"
   ]
  },
  {
   "cell_type": "code",
   "execution_count": 9,
   "metadata": {},
   "outputs": [
    {
     "data": {
      "text/plain": [
       "[0.0,\n",
       " 0,\n",
       " 0.0,\n",
       " 0.0,\n",
       " 0.0,\n",
       " 0.0,\n",
       " 0.113012,\n",
       " 0.047732,\n",
       " 0.128981,\n",
       " 0.595683,\n",
       " 0.148987,\n",
       " 0.661402,\n",
       " 0.970753]"
      ]
     },
     "execution_count": 9,
     "metadata": {},
     "output_type": "execute_result"
    }
   ],
   "source": [
    "# Import \n",
    "baseDataframe = importRound1DatasetFromPath('../../ressources/ground_truth.csv')\n",
    "\n",
    "# Compute metrics\n",
    "computeMetrics(baseDataframe, baseDataframe)"
   ]
  },
  {
   "cell_type": "code",
   "execution_count": null,
   "metadata": {},
   "outputs": [],
   "source": []
  }
 ],
 "metadata": {
  "kernelspec": {
   "display_name": "Python 3",
   "language": "python",
   "name": "python3"
  },
  "language_info": {
   "codemirror_mode": {
    "name": "ipython",
    "version": 3
   },
   "file_extension": ".py",
   "mimetype": "text/x-python",
   "name": "python",
   "nbconvert_exporter": "python",
   "pygments_lexer": "ipython3",
   "version": "3.5.2"
  }
 },
 "nbformat": 4,
 "nbformat_minor": 2
}
