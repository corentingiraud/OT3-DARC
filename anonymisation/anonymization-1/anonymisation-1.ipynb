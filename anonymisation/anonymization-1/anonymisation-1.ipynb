{
 "cells": [
  {
   "cell_type": "markdown",
   "metadata": {},
   "source": [
    "# Initialization"
   ]
  },
  {
   "cell_type": "markdown",
   "metadata": {},
   "source": [
    "First, we need to initialize this notebook. Using the following line, we enable autocomplete using this key shortcut: `tab`."
   ]
  },
  {
   "cell_type": "code",
   "execution_count": null,
   "metadata": {},
   "outputs": [],
   "source": [
    "%config IPCompleter.greedy=True"
   ]
  },
  {
   "cell_type": "markdown",
   "metadata": {},
   "source": [
    "We run other notebooks (located in `/utils` folder) in order to use their functions/methods/classes inside this notebook."
   ]
  },
  {
   "cell_type": "code",
   "execution_count": null,
   "metadata": {},
   "outputs": [],
   "source": [
    "%run '../../utils/import.ipynb'\n",
    "%run '../../utils/export.ipynb'\n",
    "%run '../../utils/pandas.ipynb'\n",
    "%run '../../utils/compute-metrics.ipynb'\n",
    "%run '../../utils/pseudonymisation.ipynb'\n",
    "%run '../../utils/qty-anonymization.ipynb'\n",
    "%run '../../utils/date-anonymization.ipynb'"
   ]
  },
  {
   "cell_type": "markdown",
   "metadata": {},
   "source": [
    "# Anonymization"
   ]
  },
  {
   "cell_type": "markdown",
   "metadata": {},
   "source": [
    "Now, we are going to generate a anonymized dataset. First we import it as csv and we divide it into 13 month in the `slicedDfTruth` array. We also copy `slicedDfTruth` into `slicedDf` array. We will do all the anonimization process using this array."
   ]
  },
  {
   "cell_type": "code",
   "execution_count": null,
   "metadata": {},
   "outputs": [],
   "source": [
    "# Import \n",
    "baseDataframe = importRound1DatasetFromPath('../../ressources/ground_truth.csv')\n",
    "\n",
    "slicedDf = sliceDFPerMonths(baseDataframe)"
   ]
  },
  {
   "cell_type": "markdown",
   "metadata": {},
   "source": [
    "After we use our `utils` with the default params.\n",
    "\n",
    "**⚠️ Be carefull, it could take a LONG time to compute ⚠️**"
   ]
  },
  {
   "cell_type": "code",
   "execution_count": null,
   "metadata": {},
   "outputs": [],
   "source": [
    "slicedDf = pseudonymisationSlicedDataset(slicedDf)\n",
    "slicedDf = anonymiseDate(slicedDf)\n",
    "slicedDf = anonymiseQty(slicedDf)\n",
    "# TODO anonymiseUnitPrice\n",
    "# TODO verifyNoUniqueItem"
   ]
  },
  {
   "cell_type": "markdown",
   "metadata": {},
   "source": [
    "# Compute utility metrics"
   ]
  },
  {
   "cell_type": "markdown",
   "metadata": {},
   "source": [
    "Now, we concat our 13 anonymized dataframes to one."
   ]
  },
  {
   "cell_type": "code",
   "execution_count": null,
   "metadata": {},
   "outputs": [],
   "source": [
    "slicedDf = pd.concat(slicedDf)"
   ]
  },
  {
   "cell_type": "markdown",
   "metadata": {},
   "source": [
    "Again, we use our `utils` to compute utility metrics. Please refer to the rules `(ROOT_FOLDER/ressources/rules.pdf)` to understand them."
   ]
  },
  {
   "cell_type": "code",
   "execution_count": null,
   "metadata": {},
   "outputs": [],
   "source": [
    "prettyPrintMetricUtil(computeMetrics(slicedDf, baseDataframe))"
   ]
  },
  {
   "cell_type": "markdown",
   "metadata": {},
   "source": [
    "# Export to csv"
   ]
  },
  {
   "cell_type": "markdown",
   "metadata": {},
   "source": [
    "Again, we use our `utils` to extract to csv our anonymized dataframe"
   ]
  },
  {
   "cell_type": "code",
   "execution_count": null,
   "metadata": {},
   "outputs": [],
   "source": [
    "exportDatasetToCsv('./', pd.concat(slicedDf))"
   ]
  }
 ],
 "metadata": {
  "kernelspec": {
   "display_name": "Python 3",
   "language": "python",
   "name": "python3"
  },
  "language_info": {
   "codemirror_mode": {
    "name": "ipython",
    "version": 3
   },
   "file_extension": ".py",
   "mimetype": "text/x-python",
   "name": "python",
   "nbconvert_exporter": "python",
   "pygments_lexer": "ipython3",
   "version": "3.7.4"
  }
 },
 "nbformat": 4,
 "nbformat_minor": 2
}
