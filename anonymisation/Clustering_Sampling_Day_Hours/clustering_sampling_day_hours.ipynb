{
 "cells": [
  {
   "cell_type": "code",
   "execution_count": 1,
   "metadata": {},
   "outputs": [
    {
     "ename": "NameError",
     "evalue": "name 'j' is not defined",
     "output_type": "error",
     "traceback": [
      "\u001b[0;31m---------------------------------------------------------------------------\u001b[0m",
      "\u001b[0;31mNameError\u001b[0m                                 Traceback (most recent call last)",
      "\u001b[0;32m<ipython-input-1-78d8e93c2adc>\u001b[0m in \u001b[0;36m<module>\u001b[0;34m\u001b[0m\n\u001b[1;32m     29\u001b[0m         \u001b[0mmeanTime\u001b[0m \u001b[0;34m=\u001b[0m \u001b[0mstr\u001b[0m\u001b[0;34m(\u001b[0m\u001b[0mdt\u001b[0m\u001b[0;34m.\u001b[0m\u001b[0mtimedelta\u001b[0m\u001b[0;34m(\u001b[0m\u001b[0mseconds\u001b[0m\u001b[0;34m=\u001b[0m\u001b[0mmeanTimeInSec\u001b[0m\u001b[0;34m)\u001b[0m\u001b[0;34m)\u001b[0m\u001b[0;34m\u001b[0m\u001b[0;34m\u001b[0m\u001b[0m\n\u001b[1;32m     30\u001b[0m         \u001b[0mhours\u001b[0m\u001b[0;34m,\u001b[0m \u001b[0mminutes\u001b[0m\u001b[0;34m,\u001b[0m \u001b[0mseconds\u001b[0m \u001b[0;34m=\u001b[0m \u001b[0mmap\u001b[0m\u001b[0;34m(\u001b[0m\u001b[0mint\u001b[0m\u001b[0;34m,\u001b[0m \u001b[0mmeanTime\u001b[0m\u001b[0;34m.\u001b[0m\u001b[0msplit\u001b[0m\u001b[0;34m(\u001b[0m\u001b[0;34m':'\u001b[0m\u001b[0;34m)\u001b[0m\u001b[0;34m)\u001b[0m\u001b[0;34m\u001b[0m\u001b[0;34m\u001b[0m\u001b[0m\n\u001b[0;32m---> 31\u001b[0;31m         \u001b[0mreplacement\u001b[0m \u001b[0;34m=\u001b[0m \u001b[0mslicedDf\u001b[0m\u001b[0;34m[\u001b[0m\u001b[0;34m'datetime'\u001b[0m\u001b[0;34m]\u001b[0m\u001b[0;34m.\u001b[0m\u001b[0miloc\u001b[0m\u001b[0;34m[\u001b[0m\u001b[0mj\u001b[0m\u001b[0;34m]\u001b[0m\u001b[0;34m.\u001b[0m\u001b[0mreplace\u001b[0m\u001b[0;34m(\u001b[0m\u001b[0mhour\u001b[0m\u001b[0;34m=\u001b[0m\u001b[0mhours\u001b[0m\u001b[0;34m,\u001b[0m \u001b[0mminute\u001b[0m\u001b[0;34m=\u001b[0m\u001b[0mminutes\u001b[0m\u001b[0;34m,\u001b[0m \u001b[0msecond\u001b[0m\u001b[0;34m=\u001b[0m\u001b[0mseconds\u001b[0m\u001b[0;34m)\u001b[0m\u001b[0;34m\u001b[0m\u001b[0;34m\u001b[0m\u001b[0m\n\u001b[0m\u001b[1;32m     32\u001b[0m         \u001b[0;32mfor\u001b[0m \u001b[0mj\u001b[0m \u001b[0;32min\u001b[0m \u001b[0mrange\u001b[0m\u001b[0;34m(\u001b[0m\u001b[0;36m0\u001b[0m\u001b[0;34m,\u001b[0m\u001b[0mi\u001b[0m\u001b[0;34m)\u001b[0m\u001b[0;34m:\u001b[0m\u001b[0;34m\u001b[0m\u001b[0;34m\u001b[0m\u001b[0m\n\u001b[1;32m     33\u001b[0m             \u001b[0mslicedDf\u001b[0m\u001b[0;34m[\u001b[0m\u001b[0;34m'datetime'\u001b[0m\u001b[0;34m]\u001b[0m\u001b[0;34m.\u001b[0m\u001b[0miloc\u001b[0m\u001b[0;34m[\u001b[0m\u001b[0mj\u001b[0m\u001b[0;34m]\u001b[0m \u001b[0;34m=\u001b[0m \u001b[0mreplacement\u001b[0m\u001b[0;34m\u001b[0m\u001b[0;34m\u001b[0m\u001b[0m\n",
      "\u001b[0;31mNameError\u001b[0m: name 'j' is not defined"
     ]
    }
   ],
   "source": [
    "%config IPCompleter.greedy=True\n",
    "\n",
    "%run ../../utils/import.ipynb\n",
    "%run ../../utils/export.ipynb\n",
    "%run ../../utils/pandas.ipynb\n",
    "%run ../../utils/compute-metrics.ipynb\n",
    "\n",
    "import datetime as dt\n",
    "\n",
    "# Import \n",
    "baseDataframe = importRound1DatasetFromPath('../../ressources/ground_truth.csv')\n",
    "slicedDf = parseColumns(baseDataframe)\n",
    "#startDate = dt.datetime(2011, 3, 1)\n",
    "#endDate = dt.datetime(2011, 3, 30)\n",
    "\n",
    "#slicedDf = sliceDFBetweenDates(slicedDf, startDate, endDate)\n",
    "\n",
    "ftr = [3600,60,1] \n",
    "meanTimeInSec = 0\n",
    "nbDates = 0\n",
    "for i in range(len(slicedDf['datetime'])-1):\n",
    "    currentDate = slicedDf['datetime'].iloc[i]\n",
    "    nextDate = slicedDf['datetime'].iloc[i+1]\n",
    "    if(currentDate.date() == nextDate.date()) :\n",
    "        meanTimeInSec += sum([a*b for a,b in zip(ftr, map(int,str(currentDate.time()).split(':')))])\n",
    "        nbDates = nbDates+1\n",
    "    else:\n",
    "        meanTimeInSec = int(meanTimeInSec/nbDates)\n",
    "        meanTime = str(dt.timedelta(seconds=meanTimeInSec))\n",
    "        hours, minutes, seconds = map(int, meanTime.split(':'))\n",
    "        for j in range(0,i):\n",
    "            slicedDf['datetime'].iloc[j] = slicedDf['datetime'].iloc[j].replace(hour=hours, minute=minutes, second=seconds)\n",
    "        meanTimeInSec = 0\n",
    "        nbDates = 0 \n",
    "exportDatasetToCsv('./', slicedDf)\n",
    "# Import \n",
    "baseDataframe = importRound1DatasetFromPath('../../ressources/ground_truth.csv')\n",
    "print(slicedDf)\n",
    "\n",
    "# Compute metrics\n",
    "computeMetrics(baseDataframe,slicedDf )"
   ]
  },
  {
   "cell_type": "code",
   "execution_count": null,
   "metadata": {},
   "outputs": [],
   "source": []
  },
  {
   "cell_type": "code",
   "execution_count": null,
   "metadata": {},
   "outputs": [],
   "source": []
  }
 ],
 "metadata": {
  "kernelspec": {
   "display_name": "Python 3",
   "language": "python",
   "name": "python3"
  },
  "language_info": {
   "codemirror_mode": {
    "name": "ipython",
    "version": 3
   },
   "file_extension": ".py",
   "mimetype": "text/x-python",
   "name": "python",
   "nbconvert_exporter": "python",
   "pygments_lexer": "ipython3",
   "version": "3.7.4"
  }
 },
 "nbformat": 4,
 "nbformat_minor": 2
}
