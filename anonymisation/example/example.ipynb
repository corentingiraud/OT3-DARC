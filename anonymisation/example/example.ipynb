{
 "cells": [
  {
   "cell_type": "markdown",
   "metadata": {},
   "source": [
    "# Initialization"
   ]
  },
  {
   "cell_type": "markdown",
   "metadata": {},
   "source": [
    "First, we need to initialize this notebook. Using the following line, we enable autocomplete using this key shortcut: `tab`."
   ]
  },
  {
   "cell_type": "code",
   "execution_count": 3,
   "metadata": {},
   "outputs": [],
   "source": [
    "%config IPCompleter.greedy=True"
   ]
  },
  {
   "cell_type": "markdown",
   "metadata": {},
   "source": [
    "We run other notebooks (located in `/utils` folder) in order to use their functions/methods/classes inside this notebook."
   ]
  },
  {
   "cell_type": "code",
   "execution_count": 86,
   "metadata": {},
   "outputs": [],
   "source": [
    "%run ../../utils/import.ipynb\n",
    "%run ../../utils/export.ipynb\n",
    "%run ../../utils/pandas.ipynb\n",
    "%run ../../utils/compute-metrics.ipynb"
   ]
  },
  {
   "cell_type": "markdown",
   "metadata": {},
   "source": [
    "In addition, we import several libs that we are going to use in this notebook"
   ]
  },
  {
   "cell_type": "code",
   "execution_count": 39,
   "metadata": {},
   "outputs": [],
   "source": [
    "import datetime as dt"
   ]
  },
  {
   "cell_type": "markdown",
   "metadata": {},
   "source": [
    "# Anonymization"
   ]
  },
  {
   "cell_type": "markdown",
   "metadata": {},
   "source": [
    "Now, we are going to generate a simple anonymized dataset by deleting one item out of three. First, we need to slice our dataset between two dates:"
   ]
  },
  {
   "cell_type": "code",
   "execution_count": 88,
   "metadata": {},
   "outputs": [],
   "source": [
    "# Import \n",
    "baseDataframe = importRound1DatasetFromPath('../../ressources/ground_truth.csv')\n",
    "\n",
    "startDate = dt.datetime(2011, 2, 1)\n",
    "endDate = dt.datetime(2011, 2, 2)\n",
    "\n",
    "slicedDf = sliceDFBetweenDates(baseDataframe, startDate, endDate)\n",
    "\n",
    "# Delete one item out of three\n",
    "slicedDelDf = slicedDf.copy()\n",
    "slicedDelDf.loc[slicedDelDf.index % 3 == 0, [\"id_user\"]] = ['DEL']"
   ]
  },
  {
   "cell_type": "markdown",
   "metadata": {},
   "source": [
    "# Compute metrics"
   ]
  },
  {
   "cell_type": "code",
   "execution_count": 89,
   "metadata": {},
   "outputs": [
    {
     "name": "stdout",
     "output_type": "stream",
     "text": [
      "E1: similarite entre tous les items: 0.610197846132207\n",
      "E2: similarite entre les items achetés en quantité < 6 (petite quantité): 0\n",
      "E3: similarité sur les objets achetés en grosse quantité (les 180 objets les plus achetés): 0.8778100826783151\n",
      "E4: moyenne des différences entre les records pour la colonne date: 0.0\n",
      "E5: moyenne des différences entre les records pour la colonne unit_price: 0.0\n",
      "E6: fraction d'items supprimés: 0.3337\n"
     ]
    }
   ],
   "source": [
    "# Compute metrics\n",
    "prettyPrintMetricUtil(computeMetrics(slicedDelDf, slicedDf))\n",
    "\n",
    "exportDatasetToCsv('./', slicedDelDf)"
   ]
  }
 ],
 "metadata": {
  "kernelspec": {
   "display_name": "Python 3",
   "language": "python",
   "name": "python3"
  },
  "language_info": {
   "codemirror_mode": {
    "name": "ipython",
    "version": 3
   },
   "file_extension": ".py",
   "mimetype": "text/x-python",
   "name": "python",
   "nbconvert_exporter": "python",
   "pygments_lexer": "ipython3",
   "version": "3.7.4"
  }
 },
 "nbformat": 4,
 "nbformat_minor": 2
}
