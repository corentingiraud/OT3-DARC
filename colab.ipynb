{
  "nbformat": 4,
  "nbformat_minor": 0,
  "metadata": {
    "colab": {
      "name": "Untitled0.ipynb",
      "provenance": [],
      "collapsed_sections": [],
      "include_colab_link": true
    },
    "kernelspec": {
      "name": "python3",
      "display_name": "Python 3"
    }
  },
  "cells": [
    {
      "cell_type": "markdown",
      "metadata": {
        "id": "view-in-github",
        "colab_type": "text"
      },
      "source": [
        "<a href=\"https://colab.research.google.com/github/kistora/OT3-DARC/blob/master/colab.ipynb\" target=\"_parent\"><img src=\"https://colab.research.google.com/assets/colab-badge.svg\" alt=\"Open In Colab\"/></a>"
      ]
    },
    {
      "cell_type": "markdown",
      "metadata": {
        "id": "XgN4fpA0uO8n",
        "colab_type": "text"
      },
      "source": [
        "# Import the dataset"
      ]
    },
    {
      "cell_type": "markdown",
      "metadata": {
        "colab_type": "text",
        "id": "HAJeuUTjul9E"
      },
      "source": [
        "First, clone or pull the GitHub repository of the project:"
      ]
    },
    {
      "cell_type": "code",
      "metadata": {
        "id": "ST3fUpSmqncY",
        "colab_type": "code",
        "colab": {
          "base_uri": "https://localhost:8080/",
          "height": 217
        },
        "outputId": "88ab319f-1464-4159-8d94-8b3a1d916815"
      },
      "source": [
        "import os\n",
        "\n",
        "if not os.path.exists('OT3-DARC'):\n",
        "  !git clone https://github.com/kistora/OT3-DARC\n",
        "else:\n",
        "  !git -C OT3-DARC pull\n",
        "sys.path.append('NeuralDocumentClassification')"
      ],
      "execution_count": 4,
      "outputs": [
        {
          "output_type": "stream",
          "text": [
            "remote: Enumerating objects: 15, done.\u001b[K\n",
            "remote: Counting objects:   8% (1/12)\u001b[K\rremote: Counting objects:  16% (2/12)\u001b[K\rremote: Counting objects:  25% (3/12)\u001b[K\rremote: Counting objects:  33% (4/12)\u001b[K\rremote: Counting objects:  41% (5/12)\u001b[K\rremote: Counting objects:  50% (6/12)\u001b[K\rremote: Counting objects:  58% (7/12)\u001b[K\rremote: Counting objects:  66% (8/12)\u001b[K\rremote: Counting objects:  75% (9/12)\u001b[K\rremote: Counting objects:  83% (10/12)\u001b[K\rremote: Counting objects:  91% (11/12)\u001b[K\rremote: Counting objects: 100% (12/12)\u001b[K\rremote: Counting objects: 100% (12/12), done.\u001b[K\n",
            "remote: Compressing objects:  33% (1/3)\u001b[K\rremote: Compressing objects:  66% (2/3)\u001b[K\rremote: Compressing objects: 100% (3/3)\u001b[K\rremote: Compressing objects: 100% (3/3), done.\u001b[K\n",
            "remote: Total 7 (delta 3), reused 7 (delta 3), pack-reused 0\u001b[K\n",
            "Unpacking objects:  14% (1/7)   \rUnpacking objects:  28% (2/7)   \rUnpacking objects:  42% (3/7)   \rUnpacking objects:  57% (4/7)   \rUnpacking objects:  71% (5/7)   \rUnpacking objects:  85% (6/7)   \rUnpacking objects: 100% (7/7)   \rUnpacking objects: 100% (7/7), done.\n",
            "From https://github.com/kistora/OT3-DARC\n",
            "   a3db994..528d9d0  master     -> origin/master\n",
            "Updating a3db994..528d9d0\n",
            "Fast-forward\n",
            " .../anonymization-1/anonymisation-1.ipynb          | 97 \u001b[32m+++++++++++++++++++\u001b[m\u001b[31m---\u001b[m\n",
            " 1 file changed, 85 insertions(+), 12 deletions(-)\n"
          ],
          "name": "stdout"
        }
      ]
    },
    {
      "cell_type": "markdown",
      "metadata": {
        "id": "lXAEjlJB1asu",
        "colab_type": "text"
      },
      "source": [
        "Install several dependencies required by the project."
      ]
    },
    {
      "cell_type": "code",
      "metadata": {
        "id": "b6MNT5Fn1gVC",
        "colab_type": "code",
        "colab": {
          "base_uri": "https://localhost:8080/",
          "height": 472
        },
        "outputId": "75c9cbfe-8b68-476c-d49f-6c13381629cc"
      },
      "source": [
        "!pip install pathos"
      ],
      "execution_count": 16,
      "outputs": [
        {
          "output_type": "stream",
          "text": [
            "Collecting pathos\n",
            "\u001b[?25l  Downloading https://files.pythonhosted.org/packages/c6/a2/cd59f73d5ede4f122687bf8f63de5d671c9561e493ca699241f05b038278/pathos-0.2.5.tar.gz (162kB)\n",
            "\u001b[K     |████████████████████████████████| 163kB 2.9MB/s \n",
            "\u001b[?25hCollecting ppft>=1.6.6.1\n",
            "\u001b[?25l  Downloading https://files.pythonhosted.org/packages/5b/16/9e83c2aa45949ee9cd6e8731275acdaeb6c624b8728d6598196c65074f3e/ppft-1.6.6.1.tar.gz (63kB)\n",
            "\u001b[K     |████████████████████████████████| 71kB 8.9MB/s \n",
            "\u001b[?25hRequirement already satisfied: dill>=0.3.1 in /usr/local/lib/python3.6/dist-packages (from pathos) (0.3.1.1)\n",
            "Collecting pox>=0.2.7\n",
            "\u001b[?25l  Downloading https://files.pythonhosted.org/packages/6c/9a/957818485aa165ce93b646aeb20181215bb415c9dca8345bdbe23b08ae67/pox-0.2.7.tar.gz (110kB)\n",
            "\u001b[K     |████████████████████████████████| 112kB 44.3MB/s \n",
            "\u001b[?25hRequirement already satisfied: multiprocess>=0.70.9 in /usr/local/lib/python3.6/dist-packages (from pathos) (0.70.9)\n",
            "Requirement already satisfied: six>=1.7.3 in /usr/local/lib/python3.6/dist-packages (from ppft>=1.6.6.1->pathos) (1.12.0)\n",
            "Building wheels for collected packages: pathos, ppft, pox\n",
            "  Building wheel for pathos (setup.py) ... \u001b[?25l\u001b[?25hdone\n",
            "  Created wheel for pathos: filename=pathos-0.2.5-cp36-none-any.whl size=77575 sha256=0c9b5b33b961ad18fd7e775cacbde199a840a5839e0c4e3bc54ec169eafbe1b9\n",
            "  Stored in directory: /root/.cache/pip/wheels/61/6d/83/90b0c3d2c271da2c4850731e894798c98f8dbedbac74e8eff0\n",
            "  Building wheel for ppft (setup.py) ... \u001b[?25l\u001b[?25hdone\n",
            "  Created wheel for ppft: filename=ppft-1.6.6.1-cp36-none-any.whl size=64710 sha256=48e0ee8e42ce0609eba168297fafe5df9328f7760ca65977ecb763b22c078110\n",
            "  Stored in directory: /root/.cache/pip/wheels/6a/0c/53/ea8dd63608f75c1e7a64d5c5ce5d1e6d04f15ae8a6fce4c2a0\n",
            "  Building wheel for pox (setup.py) ... \u001b[?25l\u001b[?25hdone\n",
            "  Created wheel for pox: filename=pox-0.2.7-cp36-none-any.whl size=28303 sha256=e1fa4baf7a53431d107f0b0f6ae17fa2c6e67716086e1ede4fb94f1c78aebb38\n",
            "  Stored in directory: /root/.cache/pip/wheels/47/10/7b/0e916f6246fe7cf7d3acd25a6d273ecf3f97888cea073a8ac2\n",
            "Successfully built pathos ppft pox\n",
            "Installing collected packages: ppft, pox, pathos\n",
            "Successfully installed pathos-0.2.5 pox-0.2.7 ppft-1.6.6.1\n"
          ],
          "name": "stdout"
        }
      ]
    },
    {
      "cell_type": "markdown",
      "metadata": {
        "id": "JuG7FMRJuVYp",
        "colab_type": "text"
      },
      "source": [
        "# Compute"
      ]
    },
    {
      "cell_type": "markdown",
      "metadata": {
        "colab_type": "text",
        "id": "CwNXjEGMuoxJ"
      },
      "source": [
        "Compute anonimized dataset using our notebook"
      ]
    },
    {
      "cell_type": "code",
      "metadata": {
        "id": "3EAPez8V1M7L",
        "colab_type": "code",
        "colab": {}
      },
      "source": [
        "os.chdir('OT3-DARC/anonymisation/anonymization-1/')"
      ],
      "execution_count": 0,
      "outputs": []
    },
    {
      "cell_type": "code",
      "metadata": {
        "id": "Hnk7-69vu08K",
        "colab_type": "code",
        "colab": {
          "base_uri": "https://localhost:8080/",
          "height": 280
        },
        "outputId": "0db0bbfb-f1d1-424d-89c6-6a1995560c08"
      },
      "source": [
        "!jupyter nbconvert --to python 'anonymisation-1.ipynb'\n",
        "%run ./anonymisation-1"
      ],
      "execution_count": 26,
      "outputs": [
        {
          "output_type": "stream",
          "text": [
            "[NbConvertApp] Converting notebook anonymisation-1.ipynb to python\n",
            "[NbConvertApp] Writing 2442 bytes to anonymisation-1.py\n"
          ],
          "name": "stdout"
        },
        {
          "output_type": "error",
          "ename": "NameError",
          "evalue": "ignored",
          "traceback": [
            "\u001b[0;31m---------------------------------------------------------------------------\u001b[0m",
            "\u001b[0;31mNameError\u001b[0m                                 Traceback (most recent call last)",
            "\u001b[0;32m/content/OT3-DARC/anonymisation/anonymization-1/anonymisation-1.py\u001b[0m in \u001b[0;36m<module>\u001b[0;34m()\u001b[0m\n\u001b[1;32m     46\u001b[0m \u001b[0;34m\u001b[0m\u001b[0m\n\u001b[1;32m     47\u001b[0m \u001b[0;31m# Import\u001b[0m\u001b[0;34m\u001b[0m\u001b[0;34m\u001b[0m\u001b[0;34m\u001b[0m\u001b[0m\n\u001b[0;32m---> 48\u001b[0;31m \u001b[0mbaseDataframe\u001b[0m \u001b[0;34m=\u001b[0m \u001b[0mimportRound1DatasetFromPath\u001b[0m\u001b[0;34m(\u001b[0m\u001b[0;34m'../../ressources/ground_truth.csv'\u001b[0m\u001b[0;34m)\u001b[0m\u001b[0;34m\u001b[0m\u001b[0;34m\u001b[0m\u001b[0m\n\u001b[0m\u001b[1;32m     49\u001b[0m \u001b[0;34m\u001b[0m\u001b[0m\n\u001b[1;32m     50\u001b[0m \u001b[0mslicedDfTruth\u001b[0m \u001b[0;34m=\u001b[0m \u001b[0msliceDFPerMonths\u001b[0m\u001b[0;34m(\u001b[0m\u001b[0mbaseDataframe\u001b[0m\u001b[0;34m)\u001b[0m\u001b[0;34m\u001b[0m\u001b[0;34m\u001b[0m\u001b[0m\n",
            "\u001b[0;31mNameError\u001b[0m: name 'importRound1DatasetFromPath' is not defined"
          ]
        }
      ]
    }
  ]
}