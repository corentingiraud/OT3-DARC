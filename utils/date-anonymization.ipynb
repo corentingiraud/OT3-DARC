{
 "cells": [
  {
   "cell_type": "code",
   "execution_count": 82,
   "metadata": {
    "scrolled": true
   },
   "outputs": [],
   "source": [
    "%config IPCompleter.greedy=True\n",
    "\n",
    "def anonymiseDate(slicedDfs):\n",
    "    print()\n",
    "    print('# Date anonymisation')\n",
    "    print()\n",
    "    \n",
    "    res = []\n",
    "    for index, dfMonthTruth in enumerate(slicedDfs):\n",
    "        print('Month n°' + str(index + 1) + ' ------------')\n",
    "        \n",
    "        dfCurrentMonth = dfMonthTruth.copy()\n",
    "        # TODO update hour to 12:00\n",
    "        \n",
    "        count = dfCurrentMonth.groupby('id_item').count()['id_user']\n",
    "        countEgal1 = count[count == 1]\n",
    "        dfCurrentMonth.loc[dfCurrentMonth['id_item'].isin(countEgal1.index.to_list()), [\"id_user\"]] = ['DEL']\n",
    "        count = dfCurrentMonth.groupby('id_user').count()\n",
    "        countEgal1 = count[count == 1]\n",
    "        res.append(dfCurrentMonth)\n",
    "    \n",
    "    print('END - Date anonymisation')\n",
    "    print()\n",
    "    return res"
   ]
  },
  {
   "cell_type": "code",
   "execution_count": null,
   "metadata": {},
   "outputs": [],
   "source": [
    "## Test\n",
    "# Uncomment only for test purpose\n",
    "# \n",
    "# %run ./pandas.ipynb\n",
    "# %run ./import.ipynb\n",
    "# %run ./compute-metrics.ipynb\n",
    "\n",
    "# baseDataframe = importRound1DatasetFromPath('../ressources/ground_truth.csv')\n",
    "# slicedDFTruth = sliceDFPerMonths(baseDataframe)\n",
    "# slicedDF = anonymiseDate(slicedDFTruth)\n",
    "\n",
    "# prettyPrintMetricUtil(computeMetrics(slicedDF[0], slicedDFTruth[0]))"
   ]
  }
 ],
 "metadata": {
  "kernelspec": {
   "display_name": "Python 3",
   "language": "python",
   "name": "python3"
  },
  "language_info": {
   "codemirror_mode": {
    "name": "ipython",
    "version": 3
   },
   "file_extension": ".py",
   "mimetype": "text/x-python",
   "name": "python",
   "nbconvert_exporter": "python",
   "pygments_lexer": "ipython3",
   "version": "3.7.4"
  }
 },
 "nbformat": 4,
 "nbformat_minor": 2
}
