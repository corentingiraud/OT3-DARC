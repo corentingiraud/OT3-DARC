{
 "cells": [
  {
   "cell_type": "code",
   "execution_count": 1,
   "metadata": {
    "scrolled": true
   },
   "outputs": [],
   "source": [
    "%config IPCompleter.greedy=True\n",
    "\n",
    "def anonymiseDate(slicedDfs):\n",
    "    print()\n",
    "    print('# Date anonymisation')\n",
    "    print()\n",
    "    \n",
    "    res = []\n",
    "    for index, dfMonthTruth in enumerate(slicedDfs):\n",
    "        print('Month n°' + str(index + 1) + ' ------------')\n",
    "        \n",
    "        dfCurrentMonth = dfMonthTruth.copy()\n",
    "        dfCurrentMonth['datetime'] = dfCurrentMonth['datetime'].apply(lambda x:x.replace(hour=12,minute=0))\n",
    "        \n",
    "        count = dfCurrentMonth.groupby('id_item').count()['id_user']\n",
    "        countEgal1 = count[count == 1]\n",
    "        dfCurrentMonth.loc[dfCurrentMonth['id_item'].isin(countEgal1.index.to_list()), [\"id_user\"]] = ['DEL']\n",
    "        count = dfCurrentMonth.groupby('id_user').count()\n",
    "        countEgal1 = count[count == 1]\n",
    "        res.append(dfCurrentMonth)\n",
    "    \n",
    "    print('END - Date anonymisation')\n",
    "    print()\n",
    "    return res"
   ]
  },
  {
   "cell_type": "code",
   "execution_count": 2,
   "metadata": {},
   "outputs": [
    {
     "name": "stdout",
     "output_type": "stream",
     "text": [
      "\n",
      "# Date anonymisation\n",
      "\n",
      "Month n°1 ------------\n",
      "Month n°2 ------------\n",
      "Month n°3 ------------\n",
      "Month n°4 ------------\n",
      "Month n°5 ------------\n",
      "Month n°6 ------------\n",
      "Month n°7 ------------\n",
      "Month n°8 ------------\n",
      "Month n°9 ------------\n",
      "Month n°10 ------------\n",
      "Month n°11 ------------\n",
      "Month n°12 ------------\n",
      "Month n°13 ------------\n",
      "END - Date anonymisation\n",
      "\n",
      "E1: similarite entre tous les items: 0.20351291837655258\n",
      "E2: similarite entre les items achetés en quantité < 6 (petite quantité): 0\n",
      "E3: similarité sur les objets achetés en grosse quantité (les 180 objets les plus achetés): 0.30937101824841634\n",
      "E4: moyenne des différences entre les records pour la colonne date: 0.0\n",
      "E5: moyenne des différences entre les records pour la colonne unit_price: 0.0\n",
      "E6: fraction d'items supprimés: 0.0227\n"
     ]
    }
   ],
   "source": [
    "## Test\n",
    "# Uncomment only for test purpose\n",
    " \n",
    "# %run ./pandas.ipynb\n",
    "# %run ./import.ipynb\n",
    "# %run ./compute-metrics.ipynb\n",
    "\n",
    "# baseDataframe = importRound1DatasetFromPath('../ressources/ground_truth.csv')\n",
    "# slicedDFTruth = sliceDFPerMonths(baseDataframe)\n",
    "# slicedDF = anonymiseDate(slicedDFTruth)\n",
    "\n",
    "# prettyPrintMetricUtil(computeMetrics(slicedDF[0], slicedDFTruth[0]))"
   ]
  }
 ],
 "metadata": {
  "kernelspec": {
   "display_name": "Python 3",
   "language": "python",
   "name": "python3"
  },
  "language_info": {
   "codemirror_mode": {
    "name": "ipython",
    "version": 3
   },
   "file_extension": ".py",
   "mimetype": "text/x-python",
   "name": "python",
   "nbconvert_exporter": "python",
   "pygments_lexer": "ipython3",
   "version": "3.5.2"
  }
 },
 "nbformat": 4,
 "nbformat_minor": 2
}
