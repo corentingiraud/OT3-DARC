{
 "cells": [
  {
   "cell_type": "code",
   "execution_count": 5,
   "metadata": {},
   "outputs": [],
   "source": [
    "%config IPCompleter.greedy=True"
   ]
  },
  {
   "cell_type": "code",
   "execution_count": 8,
   "metadata": {},
   "outputs": [],
   "source": [
    "import pandas as pd\n",
    "from DARCcore.utils import T_COL, F_COL\n",
    "\n",
    "def importRound1DatasetFromPath(path): \n",
    "    dataset = pd.read_csv(path, sep=',', engine='c', na_filter=False, low_memory=False)\n",
    "    dataset = parseColumns(dataset)\n",
    "    return dataset\n",
    "\n",
    "def importRound2DatasetFromPath(path):\n",
    "    dataset = pd.read_csv(path, sep=',', engine='c', na_filter=False, low_memory=False)\n",
    "    return dataset\n",
    "\n",
    "def parseColumns(df):\n",
    "    # DATE & HOURS to datetime\n",
    "    df['datetime'] = pd.to_datetime(df['date'] + ' ' + df['hours'])\n",
    "    df.drop('date', axis=1, inplace=True)\n",
    "    df.drop('hours', axis=1, inplace=True)\n",
    "    return df"
   ]
  }
 ],
 "metadata": {
  "kernelspec": {
   "display_name": "Python 3",
   "language": "python",
   "name": "python3"
  },
  "language_info": {
   "codemirror_mode": {
    "name": "ipython",
    "version": 3
   },
   "file_extension": ".py",
   "mimetype": "text/x-python",
   "name": "python",
   "nbconvert_exporter": "python",
   "pygments_lexer": "ipython3",
   "version": "3.7.4"
  }
 },
 "nbformat": 4,
 "nbformat_minor": 2
}
