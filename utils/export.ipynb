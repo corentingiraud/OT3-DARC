{
 "cells": [
  {
   "cell_type": "code",
   "execution_count": 3,
   "metadata": {},
   "outputs": [],
   "source": [
    "%config IPCompleter.greedy=True\n",
    "\n",
    "import pandas as pd\n",
    "\n",
    "# https://stackoverflow.com/a/20627316\n",
    "pd.options.mode.chained_assignment = None\n",
    "\n",
    "\n",
    "def exportDatasetToCsv(path, df):\n",
    "    exportDf = df.copy()\n",
    "    \n",
    "    # datetime to date and hour\n",
    "    exportDf['date'] = exportDf['datetime'].dt.date.astype(str)\n",
    "    exportDf['date'] = exportDf['date'].str.replace(\"-\",\"/\")\n",
    "    \n",
    "    exportDf['time'] = exportDf['datetime'].dt.time.astype(str)\n",
    "    exportDf['time'] = exportDf['time'].str[:-3]\n",
    "\n",
    "    exportDf.drop('datetime', axis=1, inplace=True)\n",
    "    \n",
    "    # deleted values case \n",
    "    exportDf.loc[exportDf[\"id_user\"] == 'DEL',\\\n",
    "                 [\"id_user\",\"date\",\"time\",\"id_item\",\"price\",\"qty\"]] = ['DEL',\"\",\"\",\"\",\"\",\"\"]  \n",
    "\n",
    "    columnsIndex = [\"id_user\",\"date\",\"time\",\"id_item\",\"price\",\"qty\"]\n",
    "    \n",
    "    # export to csv \n",
    "    exportDf.to_csv(path+\"output.csv\", sep=',', columns=columnsIndex, index=False)"
   ]
  }
 ],
 "metadata": {
  "kernelspec": {
   "display_name": "Python 3",
   "language": "python",
   "name": "python3"
  },
  "language_info": {
   "codemirror_mode": {
    "name": "ipython",
    "version": 3
   },
   "file_extension": ".py",
   "mimetype": "text/x-python",
   "name": "python",
   "nbconvert_exporter": "python",
   "pygments_lexer": "ipython3",
   "version": "3.7.4"
  }
 },
 "nbformat": 4,
 "nbformat_minor": 2
}
