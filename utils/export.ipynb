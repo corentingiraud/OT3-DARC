{
 "cells": [
  {
   "cell_type": "code",
   "execution_count": 3,
   "metadata": {},
   "outputs": [],
   "source": [
    "%config IPCompleter.greedy=True\n",
    "\n",
    "# https://stackoverflow.com/a/20627316\n",
    "pd.options.mode.chained_assignment = None\n",
    "\n",
    "def exportDatasetToCsv(path, df):\n",
    "    # datetime to date and hour\n",
    "    df['date'] = df['datetime'].dt.date.astype(str)\n",
    "    df['date'] = df['date'].str.replace(\"-\",\"/\")\n",
    "    \n",
    "    df['time'] = df['datetime'].dt.time.astype(str)\n",
    "    df['time'] = df['time'].str[:-3]\n",
    "\n",
    "    df.drop('datetime', axis=1, inplace=True)\n",
    "    \n",
    "    # deleted values case \n",
    "    df.loc[df[\"id_user\"] == -1, [\"id_user\",\"date\",\"time\",\"id_item\",\"price\",\"qty\"]] = ['DEL',\"\",\"\",\"\",\"\",\"\"]  \n",
    "\n",
    "    columnsIndex = [\"id_user\",\"date\",\"time\",\"id_item\",\"price\",\"qty\"]\n",
    "    \n",
    "    # export to csv \n",
    "    df.to_csv(path+\"output.csv\", sep=',', columns=columnsIndex, index=False)"
   ]
  }
 ],
 "metadata": {
  "kernelspec": {
   "display_name": "Python 3",
   "language": "python",
   "name": "python3"
  },
  "language_info": {
   "codemirror_mode": {
    "name": "ipython",
    "version": 3
   },
   "file_extension": ".py",
   "mimetype": "text/x-python",
   "name": "python",
   "nbconvert_exporter": "python",
   "pygments_lexer": "ipython3",
   "version": "3.7.1"
  }
 },
 "nbformat": 4,
 "nbformat_minor": 2
}
