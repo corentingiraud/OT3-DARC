{
 "cells": [
  {
   "cell_type": "code",
   "execution_count": 4,
   "metadata": {},
   "outputs": [],
   "source": [
    "%config IPCompleter.greedy=True\n",
    "\n",
    "def anonymiseQty(slicedDfs, smallQuantile=0.01, bigQuantile=0.99):\n",
    "    print()\n",
    "    print('# Qty anonymisation')\n",
    "    print()\n",
    "    \n",
    "    res = []\n",
    "    for index, dfMonthTruth in enumerate(slicedDfs):\n",
    "        dfCurrentMonth = dfMonthTruth.copy()\n",
    "        uniqueItemIds = dfCurrentMonth['id_item'].unique()\n",
    "        uniqueUserIds = dfCurrentMonth['id_user'].unique()\n",
    "\n",
    "        print('Month n°' + str(index + 1) + ' ------------')\n",
    "        for uniqueItem in uniqueItemIds:\n",
    "            itemDf = dfCurrentMonth.loc[dfCurrentMonth['id_item'] == uniqueItem]\n",
    "\n",
    "        #     Plot distribution\n",
    "        #     plt.hist(itemDf['qty'], cumulative=True, weights = np.ones(len(itemDf['qty'])) / len(itemDf['qty']))\n",
    "        #     plt.gca().yaxis.set_major_formatter(PercentFormatter(1))\n",
    "        #     plt.show()\n",
    "\n",
    "            # Quantile 0.99\n",
    "            quantile = itemDf['qty'].quantile(bigQuantile)\n",
    "            outlierMedian = itemDf.loc[itemDf['qty'] > quantile]['qty'].median()\n",
    "            dfCurrentMonth.loc[(dfCurrentMonth['id_item'] == uniqueItem) & (itemDf['qty'] > quantile), 'qty'] = outlierMedian\n",
    "\n",
    "            # Quantile 0.01\n",
    "            quantileS = itemDf['qty'].quantile(smallQuantile)\n",
    "            outlierMedianS = itemDf.loc[itemDf['qty'] < quantileS]['qty'].median()\n",
    "            dfCurrentMonth.loc[(dfCurrentMonth['id_item'] == uniqueItem) & (itemDf['qty'] < quantileS), 'qty'] = outlierMedianS\n",
    "\n",
    "            # Make sure nobody is alone in qty\n",
    "            qtyCount = dfCurrentMonth[dfCurrentMonth['id_item'] == uniqueItem].groupby('qty').size()\n",
    "            for i, (qty, occ) in enumerate(qtyCount.items()):\n",
    "                if occ == 1:\n",
    "                    if i+1 == len(qtyCount):\n",
    "                        dfCurrentMonth.loc[(dfCurrentMonth['id_item'] == uniqueItem) & (itemDf['qty'] == qty), 'qty'] = qtyCount.index[i - 1]\n",
    "                    elif abs(qtyCount.index[i] - qtyCount.index[i - 1]) < abs(qtyCount.index[i + 1] - qtyCount.index[i]):\n",
    "                        dfCurrentMonth.loc[(dfCurrentMonth['id_item'] == uniqueItem) & (itemDf['qty'] == qty), 'qty'] = qtyCount.index[i - 1]\n",
    "                    else:\n",
    "                        dfCurrentMonth.loc[(dfCurrentMonth['id_item'] == uniqueItem) & (itemDf['qty'] == qty), 'qty'] = qtyCount.index[i + 1]\n",
    "\n",
    "        res.append(dfCurrentMonth)\n",
    "\n",
    "    print('END Qty anonymisation')\n",
    "    print()\n",
    "    return res"
   ]
  }
 ],
 "metadata": {
  "kernelspec": {
   "display_name": "Python 3",
   "language": "python",
   "name": "python3"
  },
  "language_info": {
   "codemirror_mode": {
    "name": "ipython",
    "version": 3
   },
   "file_extension": ".py",
   "mimetype": "text/x-python",
   "name": "python",
   "nbconvert_exporter": "python",
   "pygments_lexer": "ipython3",
   "version": "3.5.2"
  }
 },
 "nbformat": 4,
 "nbformat_minor": 2
}
