{
 "cells": [
  {
   "cell_type": "code",
   "execution_count": 3,
   "metadata": {},
   "outputs": [],
   "source": [
    "# Using: https://stackoverflow.com/a/29370182\n",
    "#\n",
    "# df: a pandas dataframe with 'datetime' column (dtype datetime64[ns])\n",
    "# startDate: datetime.datetime\n",
    "# endDate: datetime.datetime\n",
    "# return the sliced dataframe\n",
    "def sliceDFBetweenDates(df, startDate, endDate):\n",
    "    mask = (df['datetime'] >= startDate) & (df['datetime'] <= endDate)\n",
    "    return df.loc[mask]"
   ]
  }
 ],
 "metadata": {
  "kernelspec": {
   "display_name": "Python 3",
   "language": "python",
   "name": "python3"
  },
  "language_info": {
   "codemirror_mode": {
    "name": "ipython",
    "version": 3
   },
   "file_extension": ".py",
   "mimetype": "text/x-python",
   "name": "python",
   "nbconvert_exporter": "python",
   "pygments_lexer": "ipython3",
   "version": "3.7.1"
  }
 },
 "nbformat": 4,
 "nbformat_minor": 2
}
