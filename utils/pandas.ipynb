{
 "cells": [
  {
   "cell_type": "code",
   "execution_count": 7,
   "metadata": {},
   "outputs": [],
   "source": [
    "import pandas as pd\n",
    "\n",
    "# Using: https://stackoverflow.com/a/29370182\n",
    "#\n",
    "# df: a pandas dataframe with 'datetime' column (dtype datetime64[ns])\n",
    "# startDate: datetime.datetime\n",
    "# endDate: datetime.datetime\n",
    "# return the sliced dataframe\n",
    "def sliceDFBetweenDates(df, startDate, endDate):\n",
    "    mask = (df['datetime'] >= startDate) & (df['datetime'] <= endDate)\n",
    "    return df.loc[mask]\n",
    "\n",
    "def sliceDFPerMonths(df):\n",
    "    res = []\n",
    "    \n",
    "    minDate = min(df['datetime'])\n",
    "    maxDate = max(df['datetime'])\n",
    "        \n",
    "    current = minDate\n",
    "    \n",
    "    while current.to_period('M') <= maxDate.to_period('M'):\n",
    "        mask = (df['datetime'].dt.to_period('M') == current.to_period('M'))\n",
    "        res.append(df.loc[mask])\n",
    "        current += pd.DateOffset(months=1)\n",
    "    return res"
   ]
  }
 ],
 "metadata": {
  "kernelspec": {
   "display_name": "Python 3",
   "language": "python",
   "name": "python3"
  },
  "language_info": {
   "codemirror_mode": {
    "name": "ipython",
    "version": 3
   },
   "file_extension": ".py",
   "mimetype": "text/x-python",
   "name": "python",
   "nbconvert_exporter": "python",
   "pygments_lexer": "ipython3",
   "version": "3.7.4"
  }
 },
 "nbformat": 4,
 "nbformat_minor": 2
}
