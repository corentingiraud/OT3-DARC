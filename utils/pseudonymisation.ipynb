{
 "cells": [
  {
   "cell_type": "markdown",
   "metadata": {},
   "source": [
    "# Pseudonymisation "
   ]
  },
  {
   "cell_type": "code",
   "execution_count": 1,
   "metadata": {},
   "outputs": [],
   "source": [
    "%config IPCompleter.greedy=True"
   ]
  },
  {
   "cell_type": "markdown",
   "metadata": {},
   "source": [
    "Function that pseudonymises the user_id for only one dataframe (one month)"
   ]
  },
  {
   "cell_type": "code",
   "execution_count": 1,
   "metadata": {},
   "outputs": [],
   "source": [
    "def pseudonymisation(df):\n",
    "    labels, uniques =  pd.factorize(df['id_user'])\n",
    "    labels = [l for l in labels]\n",
    "    df['id_user'] = labels\n",
    "    return df"
   ]
  },
  {
   "cell_type": "markdown",
   "metadata": {},
   "source": [
    "Main function that pseudonymises the user_id for many dataframes (the whole dataset).\n",
    "\n",
    "**Use this one to pseudonymise the dataset during the challenge**"
   ]
  },
  {
   "cell_type": "code",
   "execution_count": 2,
   "metadata": {},
   "outputs": [],
   "source": [
    "def pseudonymisationSlicedDataset(slicedDataset):\n",
    "    print()\n",
    "    print('# Pseudonymisation')\n",
    "    print()\n",
    "\n",
    "    res = []\n",
    "    for index, currentMonth in enumerate(slicedDataset):\n",
    "        print('Month n°' + str(index + 1) + ' ------------')\n",
    "        res.append(pseudonymisation(currentMonth))\n",
    "\n",
    "    print('END - Pseudonymisation')\n",
    "    print()\n",
    "    return res"
   ]
  }
 ],
 "metadata": {
  "kernelspec": {
   "display_name": "Python 3",
   "language": "python",
   "name": "python3"
  },
  "language_info": {
   "codemirror_mode": {
    "name": "ipython",
    "version": 3
   },
   "file_extension": ".py",
   "mimetype": "text/x-python",
   "name": "python",
   "nbconvert_exporter": "python",
   "pygments_lexer": "ipython3",
   "version": "3.7.4"
  }
 },
 "nbformat": 4,
 "nbformat_minor": 2
}
