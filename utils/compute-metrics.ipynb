{
 "cells": [
  {
   "cell_type": "code",
   "execution_count": 8,
   "metadata": {},
   "outputs": [],
   "source": [
    "%config IPCompleter.greedy=True"
   ]
  },
  {
   "cell_type": "code",
   "execution_count": 7,
   "metadata": {},
   "outputs": [],
   "source": [
    "# Remove Future warning error\n",
    "# https://stackoverflow.com/a/15778297\n",
    "import warnings\n",
    "warnings.simplefilter(action='ignore', category=FutureWarning)"
   ]
  },
  {
   "cell_type": "code",
   "execution_count": 11,
   "metadata": {},
   "outputs": [],
   "source": [
    "from DARCcore.utils import check_format_trans_file\n",
    "from DARCcore.metrics import Metrics\n",
    "\n",
    "def computeMetrics(submissionDataframeParam, groundTruthDataframeParam):\n",
    "    if not(isinstance(submissionDataframeParam, pd.DataFrame)):\n",
    "        raise Exception('submissionDataSet is not a pandas dataframe')\n",
    "        \n",
    "    if not(isinstance(groundTruthDataframeParam, pd.DataFrame)):\n",
    "        raise Exception('groundTruthDataframe is not a pandas dataframe')\n",
    "    \n",
    "    submissionDataframe = unParseColumns(submissionDataframeParam.copy())\n",
    "    groundTruthDataframe = unParseColumns(groundTruthDataframeParam.copy())\n",
    "\n",
    "    check_format_trans_file(groundTruthDataframe, submissionDataframe)\n",
    "    \n",
    "    metric = Metrics(groundTruthDataframe, submissionDataframe)\n",
    "    return metric.scores_util()\n",
    "\n",
    "def prettyPrintMetricUtil(metrics):\n",
    "    print('E1: similarite entre tous les items: ' + str(metrics[0]))\n",
    "    print('E2: similarite entre les items achetés en quantité < 6 (petite quantité): ' + str(metrics[1]))\n",
    "    print('E3: similarité sur les objets achetés en grosse quantité (les 180 objets les plus achetés): ' + str(metrics[2]))\n",
    "    print('E4: moyenne des différences entre les records pour la colonne date: ' + str(metrics[3]))\n",
    "    print('E5: moyenne des différences entre les records pour la colonne unit_price: ' + str(metrics[4]))\n",
    "    print('E6: fraction d\\'items supprimés: ' + str(metrics[5]))\n",
    "\n",
    "def unParseColumns(df):\n",
    "    #  datetime to Date and hour\n",
    "    df.insert(loc = 1, column = 'date', value = df['datetime'].dt.strftime(\"%Y/%m/%d\"))\n",
    "    df.insert(loc = 2, column = 'hours', value = df['datetime'].dt.strftime(\"%H:%M\"))\n",
    "    df.drop('datetime', axis=1, inplace=True)\n",
    "    df.reset_index(inplace=True, drop=True)\n",
    "    return df"
   ]
  }
 ],
 "metadata": {
  "kernelspec": {
   "display_name": "Python 3",
   "language": "python",
   "name": "python3"
  },
  "language_info": {
   "codemirror_mode": {
    "name": "ipython",
    "version": 3
   },
   "file_extension": ".py",
   "mimetype": "text/x-python",
   "name": "python",
   "nbconvert_exporter": "python",
   "pygments_lexer": "ipython3",
   "version": "3.7.4"
  }
 },
 "nbformat": 4,
 "nbformat_minor": 2
}
