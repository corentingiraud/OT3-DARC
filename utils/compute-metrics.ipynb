{
 "cells": [
  {
   "cell_type": "code",
   "execution_count": 8,
   "metadata": {},
   "outputs": [],
   "source": [
    "%config IPCompleter.greedy=True"
   ]
  },
  {
   "cell_type": "code",
   "execution_count": 38,
   "metadata": {},
   "outputs": [],
   "source": [
    "from DARCcore.utils import check_format_trans_file\n",
    "from DARCcore.metrics import Metrics\n",
    "\n",
    "def computeMetrics(submissionDataframe, groundTruthDataframe):\n",
    "    if not(isinstance(submissionDataframe, pd.DataFrame)):\n",
    "        raise Exception('submissionDataSet is not a pandas dataframe')\n",
    "        \n",
    "    if not(isinstance(groundTruthDataframe, pd.DataFrame)):\n",
    "        raise Exception('groundTruthDataframe is not a pandas dataframe')\n",
    "    \n",
    "    check_format_trans_file(groundTruthDataframe, submissionDataframe)\n",
    "    \n",
    "    metric = Metrics(groundTruthDataframe, submissionDataframe)\n",
    "    return metric.scores()"
   ]
  }
 ],
 "metadata": {
  "kernelspec": {
   "display_name": "Python 3",
   "language": "python",
   "name": "python3"
  },
  "language_info": {
   "codemirror_mode": {
    "name": "ipython",
    "version": 3
   },
   "file_extension": ".py",
   "mimetype": "text/x-python",
   "name": "python",
   "nbconvert_exporter": "python",
   "pygments_lexer": "ipython3",
   "version": "3.7.1"
  }
 },
 "nbformat": 4,
 "nbformat_minor": 2
}
