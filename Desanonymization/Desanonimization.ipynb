{
 "cells": [
  {
   "cell_type": "markdown",
   "metadata": {},
   "source": [
    "# Import"
   ]
  },
  {
   "cell_type": "code",
   "execution_count": 11,
   "metadata": {},
   "outputs": [],
   "source": [
    "import pandas as pd\n",
    "\n",
    "df = pd.read_csv('fuck.csv', names = ['id_user', 'date', 'hours', 'id_item', 'price', 'qty'], skiprows=1)\n",
    "dfTruth = pd.read_csv('../ressources/ground_truth.csv')\n",
    "\n",
    "uniqueUsersTruth = dfTruth['id_user'].unique()\n",
    "\n",
    "f = pd.DataFrame(index=uniqueUsersTruth, columns=[i + 1 for i in range(13)]).fillna(value='DEL')"
   ]
  },
  {
   "cell_type": "markdown",
   "metadata": {},
   "source": [
    "# Parse"
   ]
  },
  {
   "cell_type": "code",
   "execution_count": 12,
   "metadata": {},
   "outputs": [
    {
     "data": {
      "text/html": [
       "<div>\n",
       "<style scoped>\n",
       "    .dataframe tbody tr th:only-of-type {\n",
       "        vertical-align: middle;\n",
       "    }\n",
       "\n",
       "    .dataframe tbody tr th {\n",
       "        vertical-align: top;\n",
       "    }\n",
       "\n",
       "    .dataframe thead th {\n",
       "        text-align: right;\n",
       "    }\n",
       "</style>\n",
       "<table border=\"1\" class=\"dataframe\">\n",
       "  <thead>\n",
       "    <tr style=\"text-align: right;\">\n",
       "      <th></th>\n",
       "      <th>id_user</th>\n",
       "      <th>id_item</th>\n",
       "      <th>price</th>\n",
       "      <th>qty</th>\n",
       "      <th>datetime</th>\n",
       "    </tr>\n",
       "  </thead>\n",
       "  <tbody>\n",
       "    <tr>\n",
       "      <td>0</td>\n",
       "      <td>17850</td>\n",
       "      <td>85123A</td>\n",
       "      <td>2.55</td>\n",
       "      <td>6</td>\n",
       "      <td>2010-12-01 08:26:00</td>\n",
       "    </tr>\n",
       "    <tr>\n",
       "      <td>1</td>\n",
       "      <td>17850</td>\n",
       "      <td>71053</td>\n",
       "      <td>3.39</td>\n",
       "      <td>6</td>\n",
       "      <td>2010-12-01 08:26:00</td>\n",
       "    </tr>\n",
       "    <tr>\n",
       "      <td>2</td>\n",
       "      <td>17850</td>\n",
       "      <td>84406B</td>\n",
       "      <td>2.75</td>\n",
       "      <td>8</td>\n",
       "      <td>2010-12-01 08:26:00</td>\n",
       "    </tr>\n",
       "    <tr>\n",
       "      <td>3</td>\n",
       "      <td>17850</td>\n",
       "      <td>84029G</td>\n",
       "      <td>3.39</td>\n",
       "      <td>6</td>\n",
       "      <td>2010-12-01 08:26:00</td>\n",
       "    </tr>\n",
       "    <tr>\n",
       "      <td>4</td>\n",
       "      <td>17850</td>\n",
       "      <td>84029E</td>\n",
       "      <td>3.39</td>\n",
       "      <td>6</td>\n",
       "      <td>2010-12-01 08:26:00</td>\n",
       "    </tr>\n",
       "    <tr>\n",
       "      <td>...</td>\n",
       "      <td>...</td>\n",
       "      <td>...</td>\n",
       "      <td>...</td>\n",
       "      <td>...</td>\n",
       "      <td>...</td>\n",
       "    </tr>\n",
       "    <tr>\n",
       "      <td>307049</td>\n",
       "      <td>12680</td>\n",
       "      <td>22613</td>\n",
       "      <td>0.85</td>\n",
       "      <td>12</td>\n",
       "      <td>2011-12-09 12:50:00</td>\n",
       "    </tr>\n",
       "    <tr>\n",
       "      <td>307050</td>\n",
       "      <td>12680</td>\n",
       "      <td>22899</td>\n",
       "      <td>2.10</td>\n",
       "      <td>6</td>\n",
       "      <td>2011-12-09 12:50:00</td>\n",
       "    </tr>\n",
       "    <tr>\n",
       "      <td>307051</td>\n",
       "      <td>12680</td>\n",
       "      <td>23254</td>\n",
       "      <td>4.15</td>\n",
       "      <td>4</td>\n",
       "      <td>2011-12-09 12:50:00</td>\n",
       "    </tr>\n",
       "    <tr>\n",
       "      <td>307052</td>\n",
       "      <td>12680</td>\n",
       "      <td>23255</td>\n",
       "      <td>4.15</td>\n",
       "      <td>4</td>\n",
       "      <td>2011-12-09 12:50:00</td>\n",
       "    </tr>\n",
       "    <tr>\n",
       "      <td>307053</td>\n",
       "      <td>12680</td>\n",
       "      <td>22138</td>\n",
       "      <td>4.95</td>\n",
       "      <td>3</td>\n",
       "      <td>2011-12-09 12:50:00</td>\n",
       "    </tr>\n",
       "  </tbody>\n",
       "</table>\n",
       "<p>307054 rows × 5 columns</p>\n",
       "</div>"
      ],
      "text/plain": [
       "        id_user id_item  price  qty            datetime\n",
       "0         17850  85123A   2.55    6 2010-12-01 08:26:00\n",
       "1         17850   71053   3.39    6 2010-12-01 08:26:00\n",
       "2         17850  84406B   2.75    8 2010-12-01 08:26:00\n",
       "3         17850  84029G   3.39    6 2010-12-01 08:26:00\n",
       "4         17850  84029E   3.39    6 2010-12-01 08:26:00\n",
       "...         ...     ...    ...  ...                 ...\n",
       "307049    12680   22613   0.85   12 2011-12-09 12:50:00\n",
       "307050    12680   22899   2.10    6 2011-12-09 12:50:00\n",
       "307051    12680   23254   4.15    4 2011-12-09 12:50:00\n",
       "307052    12680   23255   4.15    4 2011-12-09 12:50:00\n",
       "307053    12680   22138   4.95    3 2011-12-09 12:50:00\n",
       "\n",
       "[307054 rows x 5 columns]"
      ]
     },
     "execution_count": 12,
     "metadata": {},
     "output_type": "execute_result"
    }
   ],
   "source": [
    "def parseColumns(df):\n",
    "    # DATE & HOURS to datetime\n",
    "    df['datetime'] = pd.to_datetime(df['date'] + ' ' + df['hours'])\n",
    "    df.drop('date', axis=1, inplace=True)\n",
    "    df.drop('hours', axis=1, inplace=True)\n",
    "    return df\n",
    "\n",
    "parseColumns(df)\n",
    "parseColumns(dfTruth)"
   ]
  },
  {
   "cell_type": "markdown",
   "metadata": {},
   "source": [
    "# Sliced"
   ]
  },
  {
   "cell_type": "code",
   "execution_count": 13,
   "metadata": {},
   "outputs": [],
   "source": [
    "def sliceDFPerMonths(df):\n",
    "    res = []\n",
    "    \n",
    "    minDate = min(df['datetime'])\n",
    "    maxDate = max(df['datetime'])\n",
    "        \n",
    "    current = minDate\n",
    "    \n",
    "    while current.to_period('M') <= maxDate.to_period('M'):\n",
    "        mask = (df['datetime'].dt.to_period('M') == current.to_period('M'))\n",
    "        res.append(df.loc[mask])\n",
    "        current += pd.DateOffset(months=1)\n",
    "    return res\n",
    "\n",
    "df = sliceDFPerMonths(df)\n",
    "dfTruth = sliceDFPerMonths(dfTruth)"
   ]
  },
  {
   "cell_type": "markdown",
   "metadata": {},
   "source": [
    "# Autres"
   ]
  },
  {
   "cell_type": "code",
   "execution_count": null,
   "metadata": {},
   "outputs": [
    {
     "name": "stdout",
     "output_type": "stream",
     "text": [
      "Month 0\n",
      "Month 1\n",
      "Month 2\n",
      "Month 3\n",
      "Month 4\n",
      "Month 5\n",
      "Month 6\n",
      "Month 7\n"
     ]
    }
   ],
   "source": [
    "users = []\n",
    "usersTruth = []\n",
    "seuilPrice = 200\n",
    "seuilQty = 200\n",
    "histo = {}\n",
    "\n",
    "for index, currentMonth in enumerate(df):\n",
    "    users.append(currentMonth.groupby(['id_user']).sum())\n",
    "\n",
    "for index, currentMonth in enumerate(dfTruth):\n",
    "    usersTruth.append(currentMonth.groupby(['id_user']).sum())\n",
    "    \n",
    "for index in range(13):\n",
    "    for i, user in users[index].iterrows():\n",
    "        for j, userTruth in usersTruth[index].iterrows():\n",
    "            diffPrice = abs(user['price'] - userTruth['price'])\n",
    "            diffQty = abs(user['qty'] - userTruth['qty'])\n",
    "            if diffPrice < seuilPrice and diffQty < seuilQty:\n",
    "                if userTruth.name not in histo:\n",
    "                    histo[userTruth.name] = diffPrice + diffQty\n",
    "                    f.loc[userTruth.name][index + 1] = user.name\n",
    "                elif histo[userTruth.name] > diffPrice + diffQty:\n",
    "                    histo[userTruth.name] = diffPrice + diffQty\n",
    "                    f.loc[userTruth.name][index + 1] = user.name\n",
    "    print('Month ' + str(index))"
   ]
  },
  {
   "cell_type": "markdown",
   "metadata": {},
   "source": [
    "# Résultats"
   ]
  },
  {
   "cell_type": "code",
   "execution_count": 68,
   "metadata": {},
   "outputs": [
    {
     "name": "stdout",
     "output_type": "stream",
     "text": [
      "470/798\n",
      "0/661\n",
      "0/686\n",
      "0/888\n",
      "0/780\n",
      "0/965\n",
      "0/912\n",
      "0/861\n",
      "0/854\n",
      "0/1176\n",
      "0/1272\n",
      "0/1544\n",
      "0/549\n"
     ]
    }
   ],
   "source": [
    "for index in range(13):\n",
    "    print(str(len(f[index + 1].unique()) - 1) + '/' + str(len(usersTruth[index])))"
   ]
  },
  {
   "cell_type": "code",
   "execution_count": 149,
   "metadata": {},
   "outputs": [],
   "source": [
    "f.to_csv(\"./f.csv\", sep=',', index=True, header=None)"
   ]
  },
  {
   "cell_type": "code",
   "execution_count": 50,
   "metadata": {},
   "outputs": [
    {
     "name": "stdout",
     "output_type": "stream",
     "text": [
      "id_user     date        qty\n",
      "1           2           6      1\n",
      "aabjhiqueh  2011/03/15  3      2\n",
      "                        7      1\n",
      "                        18     2\n",
      "                        20     2\n",
      "                              ..\n",
      "zzwwquevsg  2011/03/15  18     2\n",
      "                        28     1\n",
      "                        30     3\n",
      "                        32     1\n",
      "                        270    1\n",
      "Length: 122555, dtype: int64\n"
     ]
    },
    {
     "data": {
      "text/html": [
       "<div>\n",
       "<style scoped>\n",
       "    .dataframe tbody tr th:only-of-type {\n",
       "        vertical-align: middle;\n",
       "    }\n",
       "\n",
       "    .dataframe tbody tr th {\n",
       "        vertical-align: top;\n",
       "    }\n",
       "\n",
       "    .dataframe thead th {\n",
       "        text-align: right;\n",
       "    }\n",
       "</style>\n",
       "<table border=\"1\" class=\"dataframe\">\n",
       "  <thead>\n",
       "    <tr style=\"text-align: right;\">\n",
       "      <th></th>\n",
       "      <th>id_user</th>\n",
       "      <th>date</th>\n",
       "      <th>hours</th>\n",
       "      <th>id_item</th>\n",
       "      <th>price</th>\n",
       "      <th>qty</th>\n",
       "    </tr>\n",
       "  </thead>\n",
       "  <tbody>\n",
       "    <tr>\n",
       "      <td>62020</td>\n",
       "      <td>13451</td>\n",
       "      <td>2011/03/15</td>\n",
       "      <td>15:37</td>\n",
       "      <td>22857</td>\n",
       "      <td>0.85</td>\n",
       "      <td>9</td>\n",
       "    </tr>\n",
       "  </tbody>\n",
       "</table>\n",
       "</div>"
      ],
      "text/plain": [
       "       id_user        date  hours id_item  price  qty\n",
       "62020    13451  2011/03/15  15:37   22857   0.85    9"
      ]
     },
     "execution_count": 50,
     "metadata": {},
     "output_type": "execute_result"
    }
   ],
   "source": [
    "newDf = df.groupby(['id_user', 'date', 'qty']).size()\n",
    "newDf = df.groupby(['id_user', 'date', 'qty']).size()\n",
    "print(newDf)\n",
    "\n",
    "dfTruth.loc[(dfTruth['date'] == '2011/03/15') & (dfTruth['qty'] == 9)]"
   ]
  },
  {
   "cell_type": "code",
   "execution_count": null,
   "metadata": {},
   "outputs": [],
   "source": []
  }
 ],
 "metadata": {
  "kernelspec": {
   "display_name": "Python 3",
   "language": "python",
   "name": "python3"
  },
  "language_info": {
   "codemirror_mode": {
    "name": "ipython",
    "version": 3
   },
   "file_extension": ".py",
   "mimetype": "text/x-python",
   "name": "python",
   "nbconvert_exporter": "python",
   "pygments_lexer": "ipython3",
   "version": "3.5.2"
  }
 },
 "nbformat": 4,
 "nbformat_minor": 2
}
